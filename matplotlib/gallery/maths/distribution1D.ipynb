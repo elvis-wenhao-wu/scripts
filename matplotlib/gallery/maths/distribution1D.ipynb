{
 "cells": [
  {
   "cell_type": "code",
   "execution_count": 1,
   "id": "74dd1f5a",
   "metadata": {},
   "outputs": [],
   "source": [
    "import numpy as np\n",
    "import matplotlib as mpl\n",
    "import matplotlib.pyplot as plt\n",
    "import matplotlib.ticker as mticker"
   ]
  },
  {
   "cell_type": "code",
   "execution_count": 2,
   "id": "153c86a3",
   "metadata": {},
   "outputs": [
    {
     "data": {
      "image/png": "[encoded data removed]",
      "text/plain": [
       "<Figure size 1080x540 with 1 Axes>"
      ]
     },
     "metadata": {
      "needs_background": "light"
     },
     "output_type": "display_data"
    }
   ],
   "source": [
    "# imagine we need to plot a single variable discrete distribution \n",
    "rng = np.random.default_rng(3)\n",
    "lognormal = rng.lognormal(size = 10000)\n",
    "quantiles = np.array([0.05, 0.5, 0.75, 0.9, 0.95])\n",
    "stats = np.quantile(lognormal, quantiles)\n",
    "\n",
    "# data we want to plot\n",
    "fig, ax = plt.subplots(figsize = (15, 7.5))\n",
    "ax.set_xlim(right = 20)\n",
    "ax.hist(lognormal, bins = 100)\n",
    "\n",
    "# stat we want to label\n",
    "ax1 = ax.secondary_xaxis('top')\n",
    "\n",
    "locator = mticker.FixedLocator(stats)\n",
    "ax1.xaxis.set_major_locator(locator)\n",
    "ax1.set_xticklabels(list(map(lambda s: '{:.1f}'.format(s), stats.tolist())))\n",
    "\n",
    "ax1.set_xticks(ax1.get_xticks(), minor = True)\n",
    "ax1.set_xticklabels(list(map(lambda s: '{:.1%}'.format(s), quantiles.tolist())), minor = True)\n",
    "ax1.xaxis.remove_overlapping_locs = False\n",
    "\n",
    "# check if our ticks are perfect\n",
    "for stat in stats: ax.axvline(stat, color = 'red', linestyle = '--', zorder = 0)\n",
    "\n",
    "# formatting\n",
    "ax1.tick_params(axis='x', which='minor', colors='red', length = 15, width = 0)\n",
    "ax.tick_params(axis='x', which='minor', colors='red')\n",
    "\n",
    "# ax.annotate('statistics', \n",
    "#             xy=(1,1), \n",
    "#             xytext=(0, ax1.xaxis.get_tick_padding()), \n",
    "#             ha='right', \n",
    "#             va=ax1.xaxis.get_ticks_position(),\n",
    "#             xycoords='axes fraction', \n",
    "#             textcoords='offset points')\n",
    "ax.set_xlabel('values', loc = 'center')\n",
    "\n",
    "ax.set_title('Lognormal distribution', fontsize = 20)\n",
    "plt.show()"
   ]
  },
  {
   "cell_type": "code",
   "execution_count": null,
   "id": "7e4107c6",
   "metadata": {},
   "outputs": [],
   "source": []
  }
 ],
 "metadata": {
  "kernelspec": {
   "display_name": "Python 3 (ipykernel)",
   "language": "python",
   "name": "python3"
  },
  "language_info": {
   "codemirror_mode": {
    "name": "ipython",
    "version": 3
   },
   "file_extension": ".py",
   "mimetype": "text/x-python",
   "name": "python",
   "nbconvert_exporter": "python",
   "pygments_lexer": "ipython3",
   "version": "3.9.7"
  },
  "toc": {
   "base_numbering": 1,
   "nav_menu": {},
   "number_sections": true,
   "sideBar": true,
   "skip_h1_title": false,
   "title_cell": "Table of Contents",
   "title_sidebar": "Contents",
   "toc_cell": false,
   "toc_position": {},
   "toc_section_display": true,
   "toc_window_display": false
  },
  "varInspector": {
   "cols": {
    "lenName": 16,
    "lenType": 16,
    "lenVar": 40
   },
   "kernels_config": {
    "python": {
     "delete_cmd_postfix": "",
     "delete_cmd_prefix": "del ",
     "library": "var_list.py",
     "varRefreshCmd": "print(var_dic_list())"
    },
    "r": {
     "delete_cmd_postfix": ") ",
     "delete_cmd_prefix": "rm(",
     "library": "var_list.r",
     "varRefreshCmd": "cat(var_dic_list()) "
    }
   },
   "types_to_exclude": [
    "module",
    "function",
    "builtin_function_or_method",
    "instance",
    "_Feature"
   ],
   "window_display": false
  }
 },
 "nbformat": 4,
 "nbformat_minor": 5
}
