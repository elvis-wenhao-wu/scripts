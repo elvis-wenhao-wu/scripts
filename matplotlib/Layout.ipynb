{
 "cells": [
  {
   "cell_type": "markdown",
   "id": "ab3bcd3e",
   "metadata": {},
   "source": [
    "# Introduction"
   ]
  },
  {
   "cell_type": "markdown",
   "id": "5afbe2c7",
   "metadata": {},
   "source": [
    "Imagine in the real world, you would like to have a sketch-up of a beautiful scene near a river. To have the sketch-up, you need a canvas (and of course an easel to support the canvas) to draw on and pens. You hold the pens to draw on the canvas.   \n",
    "\n",
    "Matplotlib virtualise this drawing concept. To draw any plot, you need a canvas, in what ways to draw (renderer), to draw a painting (figure). Details of the Canvas and Renderer have been hidden by Matplotlib and thus they are \"Backend\" you normally cannot see. Figure is something you can see and manipulate, from its size to color of the plotting objects on it and thus they are \"Frontend\" you can see. Our journey starts from Figure.\n",
    "\n",
    "![canvas](canvas.jpeg)\n",
    "\n",
    "*Image from [iStock](https://www.istockphoto.com/photo/canvas-on-a-wooden-easel-gm1066570840-285211717)*\n",
    "\n",
    "Concepts of Canvas in Art\n",
    "* [5 Things I Wish I Knew as a BEGINNER ARTIST](https://www.youtube.com/watch?v=pEq6BfEY0ak) - show you how to draw oil painting on a canvas\n",
    "* [How do they do it? Claessens Artists' canvas](How do they do it? Claessens Artists' canvas) - show you how a canvas is made from raw materials"
   ]
  },
  {
   "cell_type": "markdown",
   "id": "eb53b29f",
   "metadata": {},
   "source": [
    "# Figure, Axes, Axis & Artists"
   ]
  },
  {
   "cell_type": "markdown",
   "id": "ef933292",
   "metadata": {},
   "source": [
    "Imagine `Figure` as the painting you wanna draw. Everything is a part of it.\n",
    "\n",
    "`Axes` is a specific region of a plot while `Axis` is the axis in mathematical sense on `Axes.\n",
    "\n",
    "In a much broader sense, `Artist` is a virtualised concept referring to any plotting object, from `Figure`, `Axes` to `Line2D` (line object), `Patch` (colored polygon object). However, I tend to think of it as plotting object on `Axes`, in a narrow sense. This won't affect our learning (especially in reading the documentation) for most of the time."
   ]
  },
  {
   "cell_type": "markdown",
   "id": "475648ce",
   "metadata": {},
   "source": [
    "![anatomy](anatomy.png)"
   ]
  },
  {
   "cell_type": "markdown",
   "id": "fb7b05ea",
   "metadata": {},
   "source": [
    "# APIs & Learning Resources"
   ]
  },
  {
   "cell_type": "markdown",
   "id": "f8fe7670",
   "metadata": {},
   "source": [
    "In general, Matplotlib has two API entries for most of its functionality, which are the `pyplot` convenience wrapper interface and the `object-oriented (OO) style` interface. \n",
    "\n",
    "Majority of the current matplotlib documentation would discourage the use of `pyplot` interface and encourage the use of the `object-oriented (OO) style` interface because you can only control the details in the OO style but not in `pyplot` style for most of the time. \n",
    "\n",
    "However, some niche corners of the documentation and also my opinion would say that `pyplot`, rather than a discouraged interface, is a convenience wrapper of matplotlib functionalities and something you can only do in `pyplot` but not in `OO` (well, I mean, not in the style of `ax.something`).\n",
    "\n",
    "The follwings are official learning resources of matplotlib."
   ]
  },
  {
   "cell_type": "markdown",
   "id": "a52ecf39",
   "metadata": {},
   "source": [
    "**Resources**\n",
    "\n",
    "Note here I use `devdocs` version of the documentation rather than `stable` version because I think the style of `devdocs` version is more clear, and aligned with other numeric package documentation (e.g. `numpy`, `pandas`).  \n",
    "\n",
    "* [Usage Guide](https://matplotlib.org/devdocs/tutorials/introductory/usage.html) - Overview\n",
    "* [Tutorials](https://matplotlib.org/devdocs/tutorials/index.html) - General functionalities you'll encounter in every plot\n",
    "* [Gallery](https://matplotlib.org/devdocs/gallery/index.html) - Types of plots (not only useful in showing you how that plot is drawn, but also visual explanations of the parameters lack in some API documentation)\n",
    "* [Reference](https://matplotlib.org/devdocs/api/index.html) - APIs"
   ]
  },
  {
   "cell_type": "markdown",
   "id": "9d66020f",
   "metadata": {},
   "source": [
    "# Layout"
   ]
  },
  {
   "cell_type": "markdown",
   "id": "4933e55c",
   "metadata": {},
   "source": [
    "Well, finally we come to this file's focus point, the layout"
   ]
  },
  {
   "cell_type": "markdown",
   "id": "cdacbb2c",
   "metadata": {},
   "source": [
    "Here is the structure of the layout\n",
    "\n",
    "**subplots constructors**\n",
    "\n",
    "* `subplots` <br/>\n",
    "    create axes and place them at rectangular `gridspec`\n",
    "    * `Figure.subplots` <br/>\n",
    "        convenience wrapper of `GridSpec` & `GridSpecBase.subplots`, which delegates subplot creation to its parent figure `Figure.add_subplot` (*gridspec_kw* will be passed on to `Figure\n",
    "    * `plt.subplots` <br/>\n",
    "        convenience wrapper of `Figure` instance & `Figure.subplots` - I personally like this method\n",
    "\n",
    "`gridspec` **module**\n",
    "\n",
    "* `GridSpec(GridSpecBase)` <br/>\n",
    "    Layout specification, controlling the relative scale of subplots. Parameters include \n",
    "    * number of rows, number of columns; <br/>\n",
    "    * width relative ratios, height relative ratios; <br/>\n",
    "    * Layout parameters <br/>\n",
    "        These parameters are not compatible with *constrained_layout* or *tight_layout* (both adjust subplot sizes to fill the figure) <br/>\n",
    "        These parameters can also be specified in `subplots_adjust`, but which only affects the subplots that are created from the given GridSpec\n",
    "        * left, bottom, right, top position; \n",
    "        * width spacing, height spacing; \n",
    "    \n",
    "* `SubplotSpec(object)` <br/>\n",
    "    The location of a subplot in a GridSpec. It describes the properties of the subplot in a gridspec, often created by subset a `GridSpec`. Within the `SubplotSpec`, one can create a nested `GridSpec` by using `SubplotSpec.subgridspec` (*nrows, ncols, **kwargs*) -> `GridSpecFromSubplotSpec`. <br/>\n",
    "    `SubplotSpec` can also have a gridspec `GridSpecFromSubplotSpec` by `SubplotSpec.subgridspec` method.\n",
    "\n",
    "Note that: \n",
    "1. `Figure.add_gridspec` is a convenience wrapper method of gridspec constructor\n",
    "2. `Figure.add_subplot` not only accepts single indexed `GridSpec` but also slicing `GridSpec`, e.g. gs[0, 0:] <br/>\n",
    "    both returning a `SubplotSpec` instance after single indexing or slicing. Check it using `type(gs[0, 0])`"
   ]
  },
  {
   "cell_type": "markdown",
   "id": "0f914e46",
   "metadata": {},
   "source": [
    "There are several ways of using the layout, but broadly speaking, manual or automatic"
   ]
  },
  {
   "cell_type": "code",
   "execution_count": 20,
   "id": "86778e0c",
   "metadata": {},
   "outputs": [],
   "source": [
    "import matplotlib.pyplot as plt\n",
    "import matplotlib.gridspec as gridspec"
   ]
  },
  {
   "cell_type": "code",
   "execution_count": 23,
   "id": "388c3322",
   "metadata": {},
   "outputs": [],
   "source": [
    "# automatic\n",
    "fig, axs = plt.subplots(ncols = 2, nrows = 2, constrained_layout=True)\n",
    "axs[0, 0] # axs[0][0] \n",
    "axs[0, 1] # axs[0][1]\n",
    "axs[1, 0] # axs[1][0]\n",
    "axs[1, 1] # axs[1][1]"
   ]
  },
  {
   "cell_type": "code",
   "execution_count": 29,
   "id": "bdc7c4bc",
   "metadata": {},
   "outputs": [
    {
     "data": {
      "image/png": "[encoded data removed]",
      "text/plain": [
       "<Figure size 432x288 with 4 Axes>"
      ]
     },
     "metadata": {
      "needs_background": "light"
     },
     "output_type": "display_data"
    }
   ],
   "source": [
    "# manual\n",
    "fig = plt.figure(constrained_layout=True)\n",
    "gs = gridspec.GridSpec(ncols=2, nrows=2, figure = fig) \n",
    "ax1 = fig.add_subplot(gs[0, 0])\n",
    "ax2 = fig.add_subplot(gs[0, 1])\n",
    "ax3 = fig.add_subplot(gs[1, 0])\n",
    "ax4 = fig.add_subplot(gs[1, 1])"
   ]
  },
  {
   "cell_type": "markdown",
   "id": "a451084a",
   "metadata": {},
   "source": [
    "# Contrained & Tight Layout\n",
    "\n",
    "`constrained_layout` automatically adjusts subplots and decorations like legends and colorbars so that they fit in the figure window while still preserving, as best they can, the logical layout requested by the user. constrained_layout is similar to tight_layout, but uses a constraint solver to determine the size of axes that allows them to fit. - Matplotlib Docs\n",
    "\n",
    "`constrained_layout` has many applications in different artists."
   ]
  },
  {
   "cell_type": "markdown",
   "id": "39639159",
   "metadata": {},
   "source": [
    "## Colorbars\n",
    "\n",
    "If you create a colorbar with Figure.colorbar, you need to make room for it. constrained_layout does this automatically. Note that if you specify use_gridspec=True it will be ignored because this option is made for improving the layout via tight_layout. - Matplotlib Docs\n",
    "\n",
    "For a complete introduction to colorbars, please see `colors` module in this repo instead."
   ]
  },
  {
   "cell_type": "markdown",
   "id": "edc144da",
   "metadata": {},
   "source": [
    "## Suptitle"
   ]
  },
  {
   "cell_type": "markdown",
   "id": "4f256900",
   "metadata": {},
   "source": [
    "## Legends"
   ]
  },
  {
   "cell_type": "markdown",
   "id": "d8822227",
   "metadata": {},
   "source": [
    "## Padding and Space"
   ]
  },
  {
   "cell_type": "markdown",
   "id": "d44b5ebd",
   "metadata": {},
   "source": [
    "`Figure.set_constrained_layout` has extra padding arguments than `Figure.subplots_adjust`\n",
    "\n",
    "Spacing between subplots is further set by wspace and hspace. These are specified as a fraction of the size of the subplot group as a whole. If these values are smaller than w_pad or h_pad, then the fixed pads are used instead. - [Constrained Layout Guide](https://matplotlib.org/devdocs/tutorials/intermediate/constrainedlayout_guide.html)"
   ]
  },
  {
   "cell_type": "markdown",
   "id": "d61b9fcb",
   "metadata": {},
   "source": [
    "## Use with GridSpec"
   ]
  },
  {
   "cell_type": "markdown",
   "id": "dc2ba5d2",
   "metadata": {},
   "source": [
    "`GridSpec` has its own `GridSpec.tight_layout` method (the pyplot api `pyplot.tight_layout` also works). - Matplotlib Docs"
   ]
  },
  {
   "cell_type": "markdown",
   "id": "25e5af21",
   "metadata": {},
   "source": [
    "## Manually setting axes positions"
   ]
  },
  {
   "cell_type": "markdown",
   "id": "4f1a4a50",
   "metadata": {},
   "source": [
    "`Axes.set_position` can reset the created `Axes` position, so constrained_layout has no effect on it anymore. - Matplotlib Docs"
   ]
  },
  {
   "cell_type": "markdown",
   "id": "11773ea5",
   "metadata": {},
   "source": [
    "## Manually turning on/off `constrained_layout` or `tight_layout`"
   ]
  },
  {
   "cell_type": "markdown",
   "id": "564d4154",
   "metadata": {},
   "source": [
    "`Figure.set_constrained_layout` (False)\n",
    "\n",
    "`Figure.set_tight_layout` (False)"
   ]
  },
  {
   "cell_type": "markdown",
   "id": "8c399de6",
   "metadata": {},
   "source": [
    "## Other Caveats"
   ]
  },
  {
   "cell_type": "markdown",
   "id": "2a3b91a3",
   "metadata": {},
   "source": [
    "`constrained_layout` \n",
    "\n",
    "* `constrained_layout` only considers ticklabels, axis labels, titles, and legends. Thus, other artists may be clipped and also may overlap.\n",
    "* It assumes that the extra space needed for ticklabels, axis labels, and titles is independent of original location of axes. This is often true, but there are rare cases where it is not.\n",
    "* There are small differences in how the backends handle rendering fonts, so the results will not be pixel-identical.\n",
    "* An artist using axes coordinates that extend beyond the axes boundary will result in unusual layouts when added to an axes. This can be avoided by adding the artist directly to the `Figure` using `add_artist`(). See `ConnectionPatch` for an example.\n",
    "\n",
    "`tight_layout`\n",
    "* `tight_layout` considers all artists on the axes by default. To remove an artist from the layout calculation you can call `Artist.set_in_layout`.\n",
    "* It assumes that the extra space needed for artists is independent of the original location of axes. This is often true, but there are rare cases where it is not.\n",
    "* *pad = 0* can clip some texts by a few pixels. This may be a bug or a limitation of the current algorithm and it is not clear why it happens. Meanwhile, use of pad larger than 0.3 is recommended.\n",
    "\n",
    "\\- Matplotlib Docs"
   ]
  },
  {
   "cell_type": "markdown",
   "id": "2fe32e86",
   "metadata": {},
   "source": [
    "# Autoscaling - View Limit"
   ]
  },
  {
   "cell_type": "markdown",
   "id": "ecad6010",
   "metadata": {},
   "source": [
    "`Axes.set_xlim` or `Axes.set_ylim` $\\ge$ `Axes.sticky_edges` $\\approx$ `Axes.margins` (In normal data, even if `sticky_edges` is set to True, +/- margin will still affect the view limit. However, in images, if `sticky_edges` is set to True, + margin will not affect view limit but - margin will)\n",
    "\n",
    "`Axes.set_xlim` or `Axes.set_ylim` will disable autoscale unless you toggle manually, which means once you add a new artist, the view limit will not be autoscaled, although the data limit and thus margin has been recalculated. \n",
    "\n",
    "`Axes.autoscale` is a higher-level API. It allows the Axes to adjust (i.e. autoscale) the view limit based on recalculated data limit and margins, which means once you add a new artist, the view limit will be autoscaled, based on the recalculated data limit and thus margins. The *tight* parameter sets the margin of the selected axis to zero. This is toggled on by default. Check its status by `Axes.get_autoscale_on()`.\n",
    "\n",
    "`Axes.autoscale_view` is a lower-level API. The autoscale only expands the axis limits using the margins through the `tight` parameter, which means once you add a new artist, the view will be autoscaled only based on original data limit and thus margins. The data limits are not updated automatically when artist data are changed after the artist has been added to an Axes instance. In that case, use `matplotlib.axes.Axes.relim()` prior to calling autoscale_view. (thus, I think `Axes.autoscale == Axes.relim() + Axes.autoscale_view` under no tight situation)"
   ]
  },
  {
   "cell_type": "markdown",
   "id": "7e49c9f8",
   "metadata": {},
   "source": [
    "## `Axes.margins`\n",
    "\n",
    "Set or retrieve autoscaling margins\n",
    "\n",
    "If a previously used Axes method such as `pcolor()` has set `use_sticky_edges` to `True`, only the limits not set by the \"sticky artists\" will be modified. To force all of the margins to be set, set `use_sticky_edges` to `False` before calling `margins()`."
   ]
  },
  {
   "cell_type": "markdown",
   "id": "28cea579",
   "metadata": {},
   "source": [
    "## `Axes.use_sticky_edges` or `Artist.sticky_edges`\n",
    "\n",
    "There are plot elements (Artists) that are usually used without margins. For example false-color images (e.g. created with Axes.imshow) are not considered in the margins calculation.\n",
    "\n",
    "While sticky edges don't increase the axis limits through extra margins, negative margins are still taken into account. This can be seen in the reduced limits of the third image.\n",
    "\n",
    "Note: `Artist.sticky_edges.x` & `Artist.sticky_edges.y` exists and values of them can be changed."
   ]
  },
  {
   "cell_type": "markdown",
   "id": "34383a6b",
   "metadata": {},
   "source": [
    "## `Axes.autoscale` or `Axes.autoscale_view`\n",
    "\n",
    "`Axes.autoscale`\n",
    "* Autoscale the axis view to the data (toggle).\n",
    "* Convenience method for simple axis view autoscaling. It turns autoscaling on or off, and then, if autoscaling for either axis is on, it performs the autoscaling on the specified axis or axes. \n",
    "* To preserve settings of either `enable` or `tight` you can set the opposite one to *None*, that way it should not be modified. However, setting `enable` to *None* and tight to *True* affects both axes regardless of the `axis` argument.\n",
    "\n",
    "`Axes.autoscale_view`\n",
    "* Autoscale the view limits using the data limits. \n",
    "* The autoscaling preserves any preexisting axis direction reversal. The data limits are not updated automatically when artist data are changed after the artist has been added to an Axes instance. In that case, use `Axes.relim()` prior to calling `Axes.autoscale_view`. \n",
    "* If the views of the axes are fixed, e.g. via `set_xlim`, they will not be changed by autoscale_view(). See `Axes.autoscale()` for an alternative.\n",
    "* Autoscale works out of the box for all lines, patches, and images added to the axes. One of the artists that it won't work with is a `Collection`. After adding a collection to the axes, one has to manually trigger the `autoscale_view()` to recalculate axes limits."
   ]
  },
  {
   "cell_type": "markdown",
   "id": "fba0d47e",
   "metadata": {},
   "source": [
    "## `Axes.set_xlim` or `Axes.set_ylim` or `Axes.relim`\n",
    "\n",
    "`Axes.set_xlim` or `Axes.set_ylim`\n",
    "* Set the x-axis/y-axis view limits. Limits may be passed in reverse order to flip the direction of the x-axis.\n",
    "\n",
    "`Axes.relim`\n",
    "* Recompute the data limits based on current artists. At present, `Collection` instances are not supported."
   ]
  },
  {
   "cell_type": "markdown",
   "id": "871d3ef6",
   "metadata": {},
   "source": [
    "# Resources"
   ]
  },
  {
   "cell_type": "markdown",
   "id": "7f97b844",
   "metadata": {},
   "source": [
    "Guides\n",
    "\n",
    "* [Customizing Figure Layouts Using GridSpec and Other Functions](https://matplotlib.org/devdocs/tutorials/intermediate/gridspec.html)\n",
    "* [Constrained Layout Guide](https://matplotlib.org/devdocs/tutorials/intermediate/constrainedlayout_guide.html)\n",
    "* [Tight Layout guide](https://matplotlib.org/devdocs/tutorials/intermediate/tight_layout_guide.html)\n",
    "* [Autoscaling](https://matplotlib.org/devdocs/tutorials/intermediate/autoscale.html)"
   ]
  },
  {
   "cell_type": "code",
   "execution_count": null,
   "id": "fbb4cafe",
   "metadata": {},
   "outputs": [],
   "source": []
  }
 ],
 "metadata": {
  "kernelspec": {
   "display_name": "Python 3 (ipykernel)",
   "language": "python",
   "name": "python3"
  },
  "language_info": {
   "codemirror_mode": {
    "name": "ipython",
    "version": 3
   },
   "file_extension": ".py",
   "mimetype": "text/x-python",
   "name": "python",
   "nbconvert_exporter": "python",
   "pygments_lexer": "ipython3",
   "version": "3.9.7"
  },
  "toc": {
   "base_numbering": 1,
   "nav_menu": {},
   "number_sections": true,
   "sideBar": true,
   "skip_h1_title": false,
   "title_cell": "Table of Contents",
   "title_sidebar": "Contents",
   "toc_cell": false,
   "toc_position": {},
   "toc_section_display": true,
   "toc_window_display": false
  },
  "varInspector": {
   "cols": {
    "lenName": 16,
    "lenType": 16,
    "lenVar": 40
   },
   "kernels_config": {
    "python": {
     "delete_cmd_postfix": "",
     "delete_cmd_prefix": "del ",
     "library": "var_list.py",
     "varRefreshCmd": "print(var_dic_list())"
    },
    "r": {
     "delete_cmd_postfix": ") ",
     "delete_cmd_prefix": "rm(",
     "library": "var_list.r",
     "varRefreshCmd": "cat(var_dic_list()) "
    }
   },
   "types_to_exclude": [
    "module",
    "function",
    "builtin_function_or_method",
    "instance",
    "_Feature"
   ],
   "window_display": false
  }
 },
 "nbformat": 4,
 "nbformat_minor": 5
}
