{
 "cells": [
  {
   "cell_type": "markdown",
   "id": "06b93315",
   "metadata": {},
   "source": [
    "# Introduction"
   ]
  },
  {
   "cell_type": "markdown",
   "id": "3f8eeacf",
   "metadata": {},
   "source": [
    "Matplotlib is built on top of a transformation framework to easily move between coordinate systems, \n",
    "* userland data coordinate system\n",
    "* axes coordinate system\n",
    "* figure coordinate system\n",
    "* display coordinate system\n",
    "\n",
    "This module will also cover \n",
    "* other transformation objects, e.g. `bbox`\n",
    "* transformation in handling digital `Image`\n",
    "* transformation in `Legend`"
   ]
  },
  {
   "cell_type": "code",
   "execution_count": 1,
   "id": "b5b51b23",
   "metadata": {},
   "outputs": [],
   "source": [
    "import copy\n",
    "import datetime\n",
    "from pprint import pprint\n",
    "import numpy as np\n",
    "import pandas as pd\n",
    "import matplotlib as mpl\n",
    "import matplotlib.pyplot as plt\n",
    "import matplotlib.transforms as mtrans\n",
    "import matplotlib.ticker as mticker\n",
    "import matplotlib.patches as mpatches\n",
    "from IPython.display import display"
   ]
  },
  {
   "cell_type": "markdown",
   "id": "172a1292",
   "metadata": {},
   "source": [
    "# *transforms*"
   ]
  },
  {
   "cell_type": "markdown",
   "id": "ec6df91e",
   "metadata": {},
   "source": [
    "The [transforms tutorial](https://matplotlib.org/3.5.0/tutorials/advanced/transforms_tutorial.html) should be clear enough to explain the basics.\n",
    "\n",
    "Individual transforms categorized by coordinate systems\n",
    "\n",
    "| Coordinates      | Transformation object                                  | Description                                                  |\n",
    "| ---------------- | ------------------------------------------------------ | ------------------------------------------------------------ |\n",
    "| \"data\"           | `ax.transData`                                         | The coordinate system for the data, controlled by xlim and ylim. |\n",
    "| \"axes\"           | `ax.transAxes`                                         | The coordinate system of the [`Axes`](https://matplotlib.org/3.5.0/api/axes_api.html#matplotlib.axes.Axes); (0, 0) is bottom left of the axes, and (1, 1) is top right of the axes. |\n",
    "| \"subfigure\"      | `subfigure.transSubfigure`                             | The coordinate system of the [`SubFigure`](https://matplotlib.org/3.5.0/api/figure_api.html#matplotlib.figure.SubFigure); (0, 0) is bottom left of the subfigure, and (1, 1) is top right of the subfigure. If a figure has no subfigures, this is the same as `transFigure`. |\n",
    "| \"figure\"         | `fig.transFigure`                                      | The coordinate system of the [`Figure`](https://matplotlib.org/3.5.0/api/figure_api.html#matplotlib.figure.Figure); (0, 0) is bottom left of the figure, and (1, 1) is top right of the figure. |\n",
    "| \"figure-inches\"  | `fig.dpi_scale_trans`                                  | The coordinate system of the [`Figure`](https://matplotlib.org/3.5.0/api/figure_api.html#matplotlib.figure.Figure) in inches; (0, 0) is bottom left of the figure, and (width, height) is the top right of the figure in inches. |\n",
    "| \"display\"        | `None`, or `IdentityTransform()`                       | The pixel coordinate system of the display window; (0, 0) is bottom left of the window, and (width, height) is top right of the display window in pixels. |\n",
    "| \"xaxis\", \"yaxis\" | `ax.get_xaxis_transform()`, `ax.get_yaxis_transform()` | Blended coordinate systems; use data coordinates on one of the axis and axes coordinates on the other. |"
   ]
  },
  {
   "cell_type": "markdown",
   "id": "80361c7c",
   "metadata": {},
   "source": [
    "# advanced transforms"
   ]
  },
  {
   "cell_type": "markdown",
   "id": "8ed6fb83",
   "metadata": {},
   "source": [
    "more individual (Affine2D) transforms\n",
    "* AffineDeltaTransform <br/>\n",
    "  Transform displacements between points\n",
    "* ScaledTranslation <br/>\n",
    "  A transformation that translates by xt and yt, after xt and yt have been transformed by scale_trans. `offset_copy` is a helper transform function with an added offset (*data* transform + *units* offset)\n",
    "\n",
    "Note: other affine2D transforms have been embedded into methods of `Affine2D` transforms, e.g. `rotate_deg`, `skew_deg`, `scale`. (see [examples](https://matplotlib.org/3.5.0/gallery/images_contours_and_fields/affine_image.html#sphx-glr-gallery-images-contours-and-fields-affine-image-py)). There is a reason we need to separate displacements and translation rather than as methods embedded in `Affine2D` transforms: coordinate-system based transforms (some) are not `Affine2D` subclasses, rather composite/blended based, thus not having these methods so we need to have separate class to help make basic displacements/translations.\n",
    "\n",
    "multi-party transform\n",
    "* blended (Affine2D) by `blended_transform_factory` <br/>\n",
    "    Basically it's a transform to let x axis and y axis to use different coordinate systems. This blended transform has been embeded in some of the convenience module methods, e.g. `axvline`, `axhspan`, `axvspan`\n",
    "    * blended generic transform (rarely used) <br/>\n",
    "      blended generic (not limited to affine2D) transform\n",
    "* composite (Affine2D) & cancellation by operator overloading <br/>\n",
    "    Basically it's a pipelined transform, \n",
    "    * composite transformation pipeline A + B returns a transform C so that C.transform(x) == B.transform(A.transform(x)). e.g. scaled translation first and then rotation for an object.\n",
    "    * cancellation transformation pipeline A - B means A + B.inverted()\n",
    "    * composite generic transform (rarely used) <br/>\n",
    "      composite generic (not limited to affine2D) transform\n",
    "\n",
    "others\n",
    "* other transforms not in the sense of pure mathmematical Affine transformation\n",
    "    * `Bbox` (*points*, **kwargs)\n",
    "    * `BboxTransform` (*boxin*, *boxout*, **kwargs)\n",
    "    * `BboxTransformFrom` (*boxin*, **kwargs) <br/>\n",
    "      BboxTransformFrom linearly transforms points from a given Bbox to the unit bounding box. This is the transform as `ax.transLimits` is using. for completeness, transforms from data coordinate system to display coordinate system are decomposed into the following pipeline transforms *self.transData = self.transScale + (self.transLimits + self.transAxes)*\n",
    "    * `BboxTransformTo` (*boxout*, **kwargs) <br/>\n",
    "      BboxTransformTo is a transformation that linearly transforms points from the unit bounding box to a given Bbox.\n",
    "    * `LockableBbox` (*bbox*, *x0=None*, *y0=None*, *x1=None*, *y1=None*, **kwargs) <br/>\n",
    "      immutable version of `Bbox`\n",
    "    * `TransformedBbox` (*bbox*, *transform*, **kwargs) <br/>\n",
    "      See [example](https://matplotlib.org/3.5.0/gallery/images_contours_and_fields/demo_bboximage.html?highlight=transformedbbox)\n",
    "    * `TransformedPatchPath` (*patch*)\n",
    "    * `TransformedPath` (*path*, *transform*)\n",
    "    \n",
    "Note: `bbox` serves both transforms and patches. some useful usage would be getting `Axes.bbox` as transforms in the following example (see [Annotating Plots](https://matplotlib.org/3.5.0/gallery/text_labels_and_annotations/annotation_demo.html) for more details)\n",
    "```python\n",
    "from matplotlib.text import OffsetFrom\n",
    "fig, (ax1, ax2) = plt.subplots(1, 2)\n",
    "ax2.annotate('xy=(0.8, 0.5)\\nxycoords=ax1.transData',\n",
    "             xy=(0.8, 0.5), xycoords=ax1.transData,\n",
    "             xytext=(10, 10),\n",
    "             textcoords=OffsetFrom(ax2.bbox, (0, 0), \"points\"),\n",
    "             ha=\"left\", va=\"bottom\",\n",
    "             bbox=bbox_args,\n",
    "             arrowprops=arrow_args)\n",
    "\n",
    "ax2.set(xlim=[-2, 2], ylim=[-2, 2])\n",
    "plt.show()\n",
    "```"
   ]
  },
  {
   "cell_type": "code",
   "execution_count": 2,
   "id": "94c4f585",
   "metadata": {},
   "outputs": [
    {
     "data": {
      "image/png": "[encoded data removed]",
      "text/plain": [
       "<Figure size 432x288 with 1 Axes>"
      ]
     },
     "metadata": {
      "needs_background": "light"
     },
     "output_type": "display_data"
    }
   ],
   "source": [
    "fig, ax = plt.subplots()\n",
    "xdata, ydata = (0.2, 0.7), (0.5, 0.5)\n",
    "ax.plot(xdata, ydata, \"o\")\n",
    "ax.set_xlim((0, 1))\n",
    "\n",
    "trans = (fig.dpi_scale_trans +\n",
    "         mtrans.ScaledTranslation(xdata[0], ydata[0], ax.transData))\n",
    "\n",
    "# plot an ellipse around the point that is 150 x 130 points in diameter...\n",
    "circle = mpatches.Ellipse((0, 0), 150/72, 130/72, angle=40,\n",
    "                          fill=None, transform=trans)\n",
    "ax.add_patch(circle)\n",
    "plt.show()"
   ]
  },
  {
   "cell_type": "code",
   "execution_count": 3,
   "id": "e1fcf6c1",
   "metadata": {},
   "outputs": [
    {
     "name": "stdout",
     "output_type": "stream",
     "text": [
      "{'ax.get_xaxis_transform': <matplotlib.transforms.BlendedGenericTransform object at 0x120a46580>,\n",
      " 'ax.get_yaxis_transform': <matplotlib.transforms.BlendedGenericTransform object at 0x120a465b0>,\n",
      " 'ax.transAxes': <matplotlib.transforms.BboxTransformTo object at 0x120a46310>,\n",
      " 'ax.transData': <matplotlib.transforms.CompositeGenericTransform object at 0x120a46610>,\n",
      " 'fig.dpi_scale_trans': <matplotlib.transforms.Affine2D object at 0x120a39130>,\n",
      " 'fig.transFigure': <matplotlib.transforms.BboxTransformTo object at 0x120a39a30>}\n"
     ]
    }
   ],
   "source": [
    "pprint({\n",
    "    'ax.transData': ax.transData,\n",
    "    'ax.transAxes': ax.transAxes,\n",
    "    'fig.transFigure': fig.transFigure, \n",
    "    'fig.dpi_scale_trans': fig.dpi_scale_trans,\n",
    "    'ax.get_xaxis_transform': ax.get_xaxis_transform(),\n",
    "    'ax.get_yaxis_transform': ax.get_yaxis_transform(),\n",
    "})"
   ]
  },
  {
   "cell_type": "code",
   "execution_count": 4,
   "id": "cdf140f1",
   "metadata": {},
   "outputs": [
    {
     "data": {
      "image/png": "[encoded data removed]",
      "text/plain": [
       "<Figure size 432x288 with 4 Axes>"
      ]
     },
     "metadata": {
      "needs_background": "light"
     },
     "output_type": "display_data"
    }
   ],
   "source": [
    "import numpy as np\n",
    "import matplotlib.pyplot as plt\n",
    "import matplotlib.transforms as mtransforms\n",
    "\n",
    "\n",
    "def get_image():\n",
    "    delta = 0.25\n",
    "    x = y = np.arange(-3.0, 3.0, delta)\n",
    "    X, Y = np.meshgrid(x, y)\n",
    "    Z1 = np.exp(-X**2 - Y**2)\n",
    "    Z2 = np.exp(-(X - 1)**2 - (Y - 1)**2)\n",
    "    Z = (Z1 - Z2)\n",
    "    return Z\n",
    "\n",
    "\n",
    "def do_plot(ax, Z, transform):\n",
    "    im = ax.imshow(Z, interpolation='none',\n",
    "                   origin='lower',\n",
    "                   extent=[-2, 4, -3, 2], clip_on=True)\n",
    "\n",
    "    trans_data = transform + ax.transData\n",
    "    im.set_transform(trans_data)\n",
    "\n",
    "    # display intended extent of the image\n",
    "    x1, x2, y1, y2 = im.get_extent()\n",
    "    ax.plot([x1, x2, x2, x1, x1], [y1, y1, y2, y2, y1], \"y--\",\n",
    "            transform=trans_data)\n",
    "    ax.set_xlim(-5, 5)\n",
    "    ax.set_ylim(-4, 4)\n",
    "\n",
    "\n",
    "# prepare image and figure\n",
    "fig, ((ax1, ax2), (ax3, ax4)) = plt.subplots(2, 2)\n",
    "Z = get_image()\n",
    "\n",
    "# image rotation\n",
    "do_plot(ax1, Z, mtransforms.Affine2D().rotate_deg(30))\n",
    "\n",
    "# image skew\n",
    "do_plot(ax2, Z, mtransforms.Affine2D().skew_deg(30, 15))\n",
    "\n",
    "# scale and reflection\n",
    "do_plot(ax3, Z, mtransforms.Affine2D().scale(-1, .5))\n",
    "\n",
    "# everything and a translation\n",
    "do_plot(ax4, Z, mtransforms.Affine2D().\n",
    "        rotate_deg(30).skew_deg(30, 15).scale(-1, .5).translate(.5, -1))\n",
    "\n",
    "plt.show()"
   ]
  },
  {
   "cell_type": "code",
   "execution_count": null,
   "id": "861913de",
   "metadata": {},
   "outputs": [],
   "source": []
  }
 ],
 "metadata": {
  "kernelspec": {
   "display_name": "Python 3 (ipykernel)",
   "language": "python",
   "name": "python3"
  },
  "language_info": {
   "codemirror_mode": {
    "name": "ipython",
    "version": 3
   },
   "file_extension": ".py",
   "mimetype": "text/x-python",
   "name": "python",
   "nbconvert_exporter": "python",
   "pygments_lexer": "ipython3",
   "version": "3.9.7"
  },
  "toc": {
   "base_numbering": 1,
   "nav_menu": {},
   "number_sections": true,
   "sideBar": true,
   "skip_h1_title": false,
   "title_cell": "Table of Contents",
   "title_sidebar": "Contents",
   "toc_cell": false,
   "toc_position": {},
   "toc_section_display": true,
   "toc_window_display": false
  },
  "varInspector": {
   "cols": {
    "lenName": 16,
    "lenType": 16,
    "lenVar": 40
   },
   "kernels_config": {
    "python": {
     "delete_cmd_postfix": "",
     "delete_cmd_prefix": "del ",
     "library": "var_list.py",
     "varRefreshCmd": "print(var_dic_list())"
    },
    "r": {
     "delete_cmd_postfix": ") ",
     "delete_cmd_prefix": "rm(",
     "library": "var_list.r",
     "varRefreshCmd": "cat(var_dic_list()) "
    }
   },
   "types_to_exclude": [
    "module",
    "function",
    "builtin_function_or_method",
    "instance",
    "_Feature"
   ],
   "window_display": false
  }
 },
 "nbformat": 4,
 "nbformat_minor": 5
}
